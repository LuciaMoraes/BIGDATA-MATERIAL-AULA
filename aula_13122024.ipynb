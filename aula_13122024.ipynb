{
 "cells": [
  {
   "cell_type": "code",
   "execution_count": 7,
   "metadata": {},
   "outputs": [],
   "source": [
    "import pandas as pd\n",
    "import numpy as np\n",
    "import random\n",
    "import matplotlib.pyplot as plt"
   ]
  },
  {
   "cell_type": "code",
   "execution_count": 18,
   "metadata": {},
   "outputs": [
    {
     "data": {
      "text/plain": [
       "array([79, 20, 26,  3, 94,  1,  5,  8, 41, 81, 35, 50, 55, 94, 99, 91, 46,\n",
       "       28, 94, 58, 97, 91, 99, 37, 17, 41, 22, 28, 34, 36, 53, 21, 85, 70,\n",
       "       63, 96, 95, 47, 18, 37, 24, 87, 94, 45, 57, 36, 87, 77, 60, 14, 10,\n",
       "       32, 73, 22, 60, 45, 73, 83, 90, 70, 17, 65, 17, 11, 69, 31, 45, 69,\n",
       "       67, 94, 23, 68, 83, 76, 22, 70, 23, 15, 92,  7, 90, 77, 24, 14, 59,\n",
       "       71, 96,  1, 81,  2, 83, 84, 19, 55, 61, 29, 77, 20, 67, 26, 28, 71,\n",
       "       87, 33, 36, 81, 80, 88, 42, 31,  9,  5, 83, 68, 85, 63,  9, 34, 75,\n",
       "       50, 51, 10, 71, 24, 74, 22, 86, 76, 12, 68, 31, 27, 65, 92, 62, 24,\n",
       "       31, 15, 80, 19, 59, 50,  1, 87,  5,  9, 40, 38, 14,  9, 34, 63, 57,\n",
       "       92,  3, 21, 73, 70, 15, 21, 38, 14,  0, 34, 20, 66, 97, 23,  8, 30,\n",
       "       78, 47,  9, 88, 11, 11, 25, 55, 18,  8, 24, 29, 15, 29, 63, 41, 74,\n",
       "       68, 11, 87, 32, 39,  1, 47, 32, 16, 52, 54, 73, 10])"
      ]
     },
     "execution_count": 18,
     "metadata": {},
     "output_type": "execute_result"
    }
   ],
   "source": [
    "lista=np.array([79, 20, 26,  3, 94,  1,  5,  8, 41, 81, 35, 50, 55, 94, 99, 91, 46,\n",
    "       28, 94, 58, 97, 91, 99, 37, 17, 41, 22, 28, 34, 36, 53, 21, 85, 70,\n",
    "       63, 96, 95, 47, 18, 37, 24, 87, 94, 45, 57, 36, 87, 77, 60, 14, 10,\n",
    "       32, 73, 22, 60, 45, 73, 83, 90, 70, 17, 65, 17, 11, 69, 31, 45, 69,\n",
    "       67, 94, 23, 68, 83, 76, 22, 70, 23, 15, 92,  7, 90, 77, 24, 14, 59,\n",
    "       71, 96,  1, 81,  2, 83, 84, 19, 55, 61, 29, 77, 20, 67, 26, 28, 71,\n",
    "       87, 33, 36, 81, 80, 88, 42, 31,  9,  5, 83, 68, 85, 63,  9, 34, 75,\n",
    "       50, 51, 10, 71, 24, 74, 22, 86, 76, 12, 68, 31, 27, 65, 92, 62, 24,\n",
    "       31, 15, 80, 19, 59, 50,  1, 87,  5,  9, 40, 38, 14,  9, 34, 63, 57,\n",
    "       92,  3, 21, 73, 70, 15, 21, 38, 14,  0, 34, 20, 66, 97, 23,  8, 30,\n",
    "       78, 47,  9, 88, 11, 11, 25, 55, 18,  8, 24, 29, 15, 29, 63, 41, 74,\n",
    "       68, 11, 87, 32, 39,  1, 47, 32, 16, 52, 54, 73, 10])\n",
    "lista"
   ]
  },
  {
   "cell_type": "code",
   "execution_count": 19,
   "metadata": {},
   "outputs": [
    {
     "data": {
      "text/plain": [
       "array([79, 20, 26,  3, 94,  1,  5,  8, 41, 81, 35, 50, 55, 94, 99, 91, 46,\n",
       "       28, 94, 58, 97, 91, 99, 37, 17, 41, 22, 28, 34, 36, 53, 21, 85, 70,\n",
       "       63, 96, 95, 47, 18, 37, 24, 87, 94, 45, 57, 36, 87, 77, 60, 14, 10,\n",
       "       32, 73, 22, 60, 45, 73, 83, 90, 70, 17, 65, 17, 11, 69, 31, 45, 69,\n",
       "       67, 94, 23, 68, 83, 76, 22, 70, 23, 15, 92,  7, 90, 77, 24, 14, 59,\n",
       "       71, 96,  1, 81,  2, 83, 84, 19, 55, 61, 29, 77, 20, 67, 26, 28, 71,\n",
       "       87, 33, 36, 81, 80, 88, 42, 31,  9,  5, 83, 68, 85, 63,  9, 34, 75,\n",
       "       50, 51, 10, 71, 24, 74, 22, 86, 76, 12, 68, 31, 27, 65, 92, 62, 24,\n",
       "       31, 15, 80, 19, 59, 50,  1, 87,  5,  9, 40, 38, 14,  9, 34, 63, 57,\n",
       "       92,  3, 21, 73, 70, 15, 21, 38, 14,  0, 34, 20, 66, 97, 23,  8, 30,\n",
       "       78, 47,  9, 88, 11, 11, 25, 55, 18,  8, 24, 29, 15, 29, 63, 41, 74,\n",
       "       68, 11, 87, 32, 39,  1, 47, 32, 16, 52, 54, 73, 10])"
      ]
     },
     "metadata": {},
     "output_type": "display_data"
    },
    {
     "name": "stdout",
     "output_type": "stream",
     "text": [
      "863.0275\n"
     ]
    }
   ],
   "source": [
    "display(lista)\n",
    "#Numpy - cálculo da variância\n",
    "variancia=np.var(lista)\n",
    "print(variancia)\n"
   ]
  },
  {
   "cell_type": "code",
   "execution_count": 20,
   "metadata": {},
   "outputs": [
    {
     "name": "stdout",
     "output_type": "stream",
     "text": [
      "29.377329694851436\n"
     ]
    }
   ],
   "source": [
    "#Numpy - cálculo do desvio-padrão\n",
    "desviopadrao=np.std(lista)\n",
    "print(desviopadrao)"
   ]
  },
  {
   "cell_type": "code",
   "execution_count": 21,
   "metadata": {},
   "outputs": [
    {
     "name": "stdout",
     "output_type": "stream",
     "text": [
      "867.3643216080402\n"
     ]
    }
   ],
   "source": [
    "#Pandas - cálculo da variância\n",
    "lista2=pd.Series(lista)\n",
    "variancia=lista2.var()\n",
    "print(variancia)\n"
   ]
  },
  {
   "cell_type": "code",
   "execution_count": 22,
   "metadata": {},
   "outputs": [
    {
     "name": "stdout",
     "output_type": "stream",
     "text": [
      "29.451049584149633\n"
     ]
    }
   ],
   "source": [
    "#Pandas - cálculo do desvio-padrão\n",
    "desviopadrao=lista2.std()\n",
    "print(desviopadrao)\n"
   ]
  },
  {
   "cell_type": "code",
   "execution_count": 23,
   "metadata": {},
   "outputs": [
    {
     "data": {
      "text/plain": [
       "0      79\n",
       "1      20\n",
       "2      26\n",
       "3       3\n",
       "4      94\n",
       "       ..\n",
       "195    16\n",
       "196    52\n",
       "197    54\n",
       "198    73\n",
       "199    10\n",
       "Length: 200, dtype: int64"
      ]
     },
     "metadata": {},
     "output_type": "display_data"
    }
   ],
   "source": [
    "display(lista2)\n"
   ]
  },
  {
   "cell_type": "code",
   "execution_count": 28,
   "metadata": {},
   "outputs": [
    {
     "name": "stdout",
     "output_type": "stream",
     "text": [
      "Média: 47.35\n"
     ]
    }
   ],
   "source": [
    "media=np.mean(lista)\n",
    "print(f'Média: {media}')\n"
   ]
  },
  {
   "cell_type": "code",
   "execution_count": 29,
   "metadata": {},
   "outputs": [
    {
     "name": "stdout",
     "output_type": "stream",
     "text": [
      "0.6219862636568032\n"
     ]
    }
   ],
   "source": [
    "#coeficiente de variação (CV) é o desvio-padrão dividido pela média\n",
    "coef_variacao=desviopadrao/media\n",
    "print(coef_variacao)"
   ]
  },
  {
   "cell_type": "code",
   "execution_count": 30,
   "metadata": {},
   "outputs": [
    {
     "name": "stdout",
     "output_type": "stream",
     "text": [
      "38.686691217775035 %\n"
     ]
    }
   ],
   "source": [
    "#cálculo da distância da variância em relação à média\n",
    "distancia=variancia / (media**2)\n",
    "print(distancia*100,'%')"
   ]
  },
  {
   "cell_type": "markdown",
   "metadata": {},
   "source": [
    "Como eu interpreto isso?\n",
    "\n",
    "1. distância <= 10%: minha dispersão é BAIXA;\n",
    "2. distância > 10% e <= 25%: minha dispersão é MODERADA;\n",
    "3. distância > 25%: minha dispersão é ALTA.\n",
    "----"
   ]
  },
  {
   "cell_type": "markdown",
   "metadata": {},
   "source": [
    "*Assimetria* é uma medida que nos indica a TENDÊNCIA DA DISTRIBUIÇÃO dos dados para o lado dos valores menores ou maiores.\n",
    " Para obtê-la, utilizamos o método do Pandas chamado skew().\n",
    "\n",
    " Como vou interpretar meus dados:\n",
    "\n",
    " 1. Assimetria >= -0.5 e Assimetria <= 0.5: distribuição SIMÉTRICA (média aproximadamente igual à mediana);\n",
    "\n",
    " 2. Assimetria > 0.5: distribuição ASSIMÉTRICA POSITIVA (média maior que a mediana; distribuição tendendo mais à direita);\n",
    "\n",
    " 3. Assimetria < -0.5: distribuição ASSIMÉTRICA NEGATIVA (média menor que a mediana; distribuição tendendo mais à esquerda)."
   ]
  },
  {
   "cell_type": "code",
   "execution_count": 35,
   "metadata": {},
   "outputs": [],
   "source": [
    "import pandas as pd\n",
    "import numpy as np"
   ]
  },
  {
   "cell_type": "code",
   "execution_count": 37,
   "metadata": {},
   "outputs": [
    {
     "data": {
      "text/plain": [
       "array([ 1500,  2500,  3500,  3700,  4200,  5800,  9900, 13000, 15400,\n",
       "       25000])"
      ]
     },
     "execution_count": 37,
     "metadata": {},
     "output_type": "execute_result"
    }
   ],
   "source": [
    "salarios=np.array([1500, 2500, 3500, 3700, 4200, 5800, 9900, 13000, 15400, 25000])\n",
    "salarios"
   ]
  },
  {
   "cell_type": "code",
   "execution_count": 38,
   "metadata": {},
   "outputs": [
    {
     "data": {
      "text/html": [
       "<div>\n",
       "<style scoped>\n",
       "    .dataframe tbody tr th:only-of-type {\n",
       "        vertical-align: middle;\n",
       "    }\n",
       "\n",
       "    .dataframe tbody tr th {\n",
       "        vertical-align: top;\n",
       "    }\n",
       "\n",
       "    .dataframe thead th {\n",
       "        text-align: right;\n",
       "    }\n",
       "</style>\n",
       "<table border=\"1\" class=\"dataframe\">\n",
       "  <thead>\n",
       "    <tr style=\"text-align: right;\">\n",
       "      <th></th>\n",
       "      <th>0</th>\n",
       "    </tr>\n",
       "  </thead>\n",
       "  <tbody>\n",
       "    <tr>\n",
       "      <th>0</th>\n",
       "      <td>1500</td>\n",
       "    </tr>\n",
       "    <tr>\n",
       "      <th>1</th>\n",
       "      <td>2500</td>\n",
       "    </tr>\n",
       "    <tr>\n",
       "      <th>2</th>\n",
       "      <td>3500</td>\n",
       "    </tr>\n",
       "    <tr>\n",
       "      <th>3</th>\n",
       "      <td>3700</td>\n",
       "    </tr>\n",
       "    <tr>\n",
       "      <th>4</th>\n",
       "      <td>4200</td>\n",
       "    </tr>\n",
       "    <tr>\n",
       "      <th>5</th>\n",
       "      <td>5800</td>\n",
       "    </tr>\n",
       "    <tr>\n",
       "      <th>6</th>\n",
       "      <td>9900</td>\n",
       "    </tr>\n",
       "    <tr>\n",
       "      <th>7</th>\n",
       "      <td>13000</td>\n",
       "    </tr>\n",
       "    <tr>\n",
       "      <th>8</th>\n",
       "      <td>15400</td>\n",
       "    </tr>\n",
       "    <tr>\n",
       "      <th>9</th>\n",
       "      <td>25000</td>\n",
       "    </tr>\n",
       "  </tbody>\n",
       "</table>\n",
       "</div>"
      ],
      "text/plain": [
       "       0\n",
       "0   1500\n",
       "1   2500\n",
       "2   3500\n",
       "3   3700\n",
       "4   4200\n",
       "5   5800\n",
       "6   9900\n",
       "7  13000\n",
       "8  15400\n",
       "9  25000"
      ]
     },
     "metadata": {},
     "output_type": "display_data"
    }
   ],
   "source": [
    "df_salarios={'Salários':[1500, 2500, 3500, 3700, 4200, 5800, 9900, 13000, 15400, 25000]}\n",
    "df_salarios=pd.DataFrame(salarios)\n",
    "display(df_salarios)"
   ]
  }
 ],
 "metadata": {
  "kernelspec": {
   "display_name": "Python 3",
   "language": "python",
   "name": "python3"
  },
  "language_info": {
   "codemirror_mode": {
    "name": "ipython",
    "version": 3
   },
   "file_extension": ".py",
   "mimetype": "text/x-python",
   "name": "python",
   "nbconvert_exporter": "python",
   "pygments_lexer": "ipython3",
   "version": "3.11.4"
  },
  "orig_nbformat": 4
 },
 "nbformat": 4,
 "nbformat_minor": 2
}
