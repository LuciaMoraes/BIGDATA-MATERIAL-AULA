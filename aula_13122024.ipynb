{
 "cells": [
  {
   "cell_type": "code",
   "execution_count": 1,
   "metadata": {},
   "outputs": [],
   "source": [
    "import pandas as pd\n",
    "import numpy as np\n",
    "import random\n",
    "import matplotlib.pyplot as plt"
   ]
  },
  {
   "cell_type": "code",
   "execution_count": 2,
   "metadata": {},
   "outputs": [
    {
     "data": {
      "text/plain": [
       "array([2500, 3200, 2700, 3000, 3400, 3700, 4500, 4700, 5000, 5200, 6000,\n",
       "       7000])"
      ]
     },
     "execution_count": 2,
     "metadata": {},
     "output_type": "execute_result"
    }
   ],
   "source": [
    "amostra=np.array([2500,3200,2700,3000,3400,3700,4500,4700,5000,5200,6000,7000])\n",
    "amostra"
   ]
  },
  {
   "cell_type": "code",
   "execution_count": null,
   "metadata": {},
   "outputs": [],
   "source": []
  },
  {
   "cell_type": "code",
   "execution_count": 4,
   "metadata": {},
   "outputs": [
    {
     "ename": "NameError",
     "evalue": "name 'media' is not defined",
     "output_type": "error",
     "traceback": [
      "\u001b[1;31m---------------------------------------------------------------------------\u001b[0m",
      "\u001b[1;31mNameError\u001b[0m                                 Traceback (most recent call last)",
      "Cell \u001b[1;32mIn[4], line 2\u001b[0m\n\u001b[0;32m      1\u001b[0m \u001b[39m#diferenças em relação à média\u001b[39;00m\n\u001b[1;32m----> 2\u001b[0m diferencas\u001b[39m=\u001b[39m[x \u001b[39m-\u001b[39;49m media \u001b[39mfor\u001b[39;49;00m x \u001b[39min\u001b[39;49;00m amostra]\n\u001b[0;32m      3\u001b[0m display(diferencas)\n",
      "Cell \u001b[1;32mIn[4], line 2\u001b[0m, in \u001b[0;36m<listcomp>\u001b[1;34m(.0)\u001b[0m\n\u001b[0;32m      1\u001b[0m \u001b[39m#diferenças em relação à média\u001b[39;00m\n\u001b[1;32m----> 2\u001b[0m diferencas\u001b[39m=\u001b[39m[x \u001b[39m-\u001b[39m media \u001b[39mfor\u001b[39;00m x \u001b[39min\u001b[39;00m amostra]\n\u001b[0;32m      3\u001b[0m display(diferencas)\n",
      "\u001b[1;31mNameError\u001b[0m: name 'media' is not defined"
     ]
    }
   ],
   "source": [
    "#diferenças em relação à média\n",
    "diferencas=[x - media for x in amostra]\n",
    "display(diferencas)"
   ]
  },
  {
   "cell_type": "code",
   "execution_count": null,
   "metadata": {},
   "outputs": [],
   "source": [
    "#elevando as diferencas ao quadrado\n",
    "diferencas=[x - media for x in amostra]\n",
    "quadrados_das_diferencas"
   ]
  }
 ],
 "metadata": {
  "kernelspec": {
   "display_name": "Python 3",
   "language": "python",
   "name": "python3"
  },
  "language_info": {
   "codemirror_mode": {
    "name": "ipython",
    "version": 3
   },
   "file_extension": ".py",
   "mimetype": "text/x-python",
   "name": "python",
   "nbconvert_exporter": "python",
   "pygments_lexer": "ipython3",
   "version": "3.11.4"
  },
  "orig_nbformat": 4
 },
 "nbformat": 4,
 "nbformat_minor": 2
}
