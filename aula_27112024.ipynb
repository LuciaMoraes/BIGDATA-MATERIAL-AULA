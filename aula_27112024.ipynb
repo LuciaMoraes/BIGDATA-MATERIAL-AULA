import pandas as pd
import numpy as np

# Carregar os dados
dados = pd.read_csv('UppEvolucaoMensalDeTitulos.csv', encoding='latin1', sep=';')

# Exibir as primeiras 5 linhas para uma visão inicial
display(dados.head())

# Gerar as estatísticas descritivas
estatistica = dados.describe()
display(estatistica)

# Calcular a média dos homicídios dolosos
media_homicidios = dados['homicidios_dolosos'].mean()
print(f'Média dos homicídios dolosos: {media_homicidios}')

# Calcular a mediana dos homicídios dolosos
mediana_homicidios = dados['homicidios_dolosos'].median()
print(f'Mediana dos homicídios dolosos: {mediana_homicidios}')

# Calcular a moda dos homicídios dolosos
moda_homicidios = dados['homicidios_dolosos'].mode()[0]  # Pega o primeiro valor da moda
print(f'Moda dos homicídios dolosos: {moda_homicidios}')

# Calcular os quartis (Q1, Q2 (Mediana), Q3)
quartis = np.percentile(dados['homicidios_dolosos'], [25, 50, 75])
print(f'Quartis dos homicídios dolosos: Q1 = {quartis[0]}, Q2 (Mediana) = {quartis[1]}, Q3 = {quartis[2]}')


