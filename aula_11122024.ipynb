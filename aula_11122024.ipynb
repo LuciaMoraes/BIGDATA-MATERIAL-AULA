{
 "cells": [
  {
   "cell_type": "markdown",
   "metadata": {},
   "source": [
    "MEDIDAS DE TENDÊNCIA CENTRAL COM NYMPY"
   ]
  },
  {
   "cell_type": "code",
   "execution_count": 34,
   "metadata": {},
   "outputs": [],
   "source": [
    "import pandas as pd\n",
    "import numpy as np\n",
    "import random\n",
    "import matplotlib.pyplot as plt"
   ]
  },
  {
   "cell_type": "code",
   "execution_count": 11,
   "metadata": {},
   "outputs": [
    {
     "data": {
      "text/plain": [
       "array([2500, 3200, 2700, 3000, 3400, 3700, 4500, 4700, 5000, 5200, 6000,\n",
       "       7000])"
      ]
     },
     "execution_count": 11,
     "metadata": {},
     "output_type": "execute_result"
    }
   ],
   "source": [
    "amostra=np.array([2500,3200,2700,3000,3400,3700,4500,4700,5000,5200,6000,7000])\n",
    "amostra"
   ]
  },
  {
   "cell_type": "code",
   "execution_count": 12,
   "metadata": {},
   "outputs": [
    {
     "name": "stdout",
     "output_type": "stream",
     "text": [
      "Média: 4241.666666666667\n",
      "Mediana: 4100.0\n"
     ]
    }
   ],
   "source": [
    "media=np.mean(amostra)\n",
    "mediana=np.median(amostra)\n",
    "print(f'Média: {media}')\n",
    "print(f'Mediana: {mediana}')"
   ]
  },
  {
   "cell_type": "code",
   "execution_count": 13,
   "metadata": {},
   "outputs": [
    {
     "name": "stdout",
     "output_type": "stream",
     "text": [
      "Distância entre média e mediana: 3.46%\n"
     ]
    }
   ],
   "source": [
    "distancia=(media-mediana)/mediana*100\n",
    "print (f'Distância entre média e mediana: {distancia:.2f}%')"
   ]
  },
  {
   "cell_type": "markdown",
   "metadata": {},
   "source": [
    "como eu devo interpretar isso?\n",
    "\n",
    "Se:\n",
    "\n",
    "1. Distância <=|10%|: a minha média é confiável;\n",
    "2. |10%| < distancia < |25%|: existe uma influencia MODERADA de valores extremos;\n",
    "3. Distância >= |25%| existe ALTA influência dos valores extremos;"
   ]
  },
  {
   "cell_type": "markdown",
   "metadata": {},
   "source": [
    "Atividade assistida"
   ]
  },
  {
   "cell_type": "code",
   "execution_count": 17,
   "metadata": {},
   "outputs": [
    {
     "name": "stdout",
     "output_type": "stream",
     "text": [
      "Média: 4241.666666666667\n",
      "Mediana: 4100.0\n",
      "Distância entre média e mediana: 3.46%\n",
      "Primeiro quartil (Q1):3150.0\n",
      "Segundo quartil (Q2):4100.0\n",
      "Terceiro quartil (Q3):5050.0\n"
     ]
    }
   ],
   "source": [
    "q1=np.percentile(amostra,25) # o primeiro quartil representa 25% do total da amostra\n",
    "q2=np.percentile(amostra,50) # mediana pode ser interpretada como o seu segundo quartil (quartil 50)\n",
    "q3=np.percentile(amostra,75) # o terceiro quartil representava 75% do total da amostra\n",
    "\n",
    "#Resumo Estatístico:\n",
    "print(f'Média: {media}')\n",
    "print(f'Mediana: {mediana}')\n",
    "print(f'Distância entre média e mediana: {distancia:.2f}%')\n",
    "print(f\"Primeiro quartil (Q1):{q1}\")\n",
    "print(f\"Segundo quartil (Q2):{q2}\")\n",
    "print(f\"Terceiro quartil (Q3):{q3}\")"
   ]
  },
  {
   "cell_type": "code",
   "execution_count": 19,
   "metadata": {},
   "outputs": [
    {
     "name": "stdout",
     "output_type": "stream",
     "text": [
      "Média: 4241.666666666667\n",
      "Mediana: 4100.0\n",
      "Distância entre média e mediana: 3.46%\n",
      "Primeiro quartil (Q1):3150.0\n",
      "Segundo quartil (Q2):4100.0\n",
      "Terceiro quartil (Q3):5050.0\n",
      "Intervalo InterQuartil:1900.0\n",
      "limite_superior:7900.0\n",
      "limite_inferior:300.0\n"
     ]
    }
   ],
   "source": [
    "#cáculos para verificação do intervalo interQuartil (IQR) e seus limites:\n",
    "\n",
    "iqr=q3-q1\n",
    "limite_superior=q3+(1.5*iqr)\n",
    "limite_inferior=q1-(1.5*iqr)\n",
    "\n",
    "#Resumo Estatístico:\n",
    "print(f'Média: {media}')\n",
    "print(f'Mediana: {mediana}')\n",
    "print(f'Distância entre média e mediana: {distancia:.2f}%')\n",
    "print(f\"Primeiro quartil (Q1):{q1}\")\n",
    "print(f\"Segundo quartil (Q2):{q2}\")\n",
    "print(f\"Terceiro quartil (Q3):{q3}\")\n",
    "print(f\"Intervalo InterQuartil:{iqr}\")\n",
    "print(f\"limite_superior:{limite_superior}\")\n",
    "print(f\"limite_inferior:{limite_inferior}\")"
   ]
  },
  {
   "cell_type": "code",
   "execution_count": 20,
   "metadata": {},
   "outputs": [
    {
     "data": {
      "text/plain": [
       "array([79, 20, 26,  3, 94,  1,  5,  8, 41, 81, 35, 50, 55, 94, 99, 91, 46,\n",
       "       28, 94, 58, 97, 91, 99, 37, 17, 41, 22, 28, 34, 36, 53, 21, 85, 70,\n",
       "       63, 96, 95, 47, 18, 37, 24, 87, 94, 45, 57, 36, 87, 77, 60, 14, 10,\n",
       "       32, 73, 22, 60, 45, 73, 83, 90, 70, 17, 65, 17, 11, 69, 31, 45, 69,\n",
       "       67, 94, 23, 68, 83, 76, 22, 70, 23, 15, 92,  7, 90, 77, 24, 14, 59,\n",
       "       71, 96,  1, 81,  2, 83, 84, 19, 55, 61, 29, 77, 20, 67, 26, 28, 71,\n",
       "       87, 33, 36, 81, 80, 88, 42, 31,  9,  5, 83, 68, 85, 63,  9, 34, 75,\n",
       "       50, 51, 10, 71, 24, 74, 22, 86, 76, 12, 68, 31, 27, 65, 92, 62, 24,\n",
       "       31, 15, 80, 19, 59, 50,  1, 87,  5,  9, 40, 38, 14,  9, 34, 63, 57,\n",
       "       92,  3, 21, 73, 70, 15, 21, 38, 14,  0, 34, 20, 66, 97, 23,  8, 30,\n",
       "       78, 47,  9, 88, 11, 11, 25, 55, 18,  8, 24, 29, 15, 29, 63, 41, 74,\n",
       "       68, 11, 87, 32, 39,  1, 47, 32, 16, 52, 54, 73, 10], dtype=int32)"
      ]
     },
     "execution_count": 20,
     "metadata": {},
     "output_type": "execute_result"
    }
   ],
   "source": [
    "array_r= np.random.randint(0, 100, 200)\n",
    "array_r"
   ]
  },
  {
   "cell_type": "code",
   "execution_count": 22,
   "metadata": {},
   "outputs": [
    {
     "data": {
      "text/plain": [
       "array([79, 20, 26,  3, 94,  1,  5,  8, 41, 81, 35, 50, 55, 94, 99, 91, 46,\n",
       "       28, 94, 58, 97, 91, 99, 37, 17, 41, 22, 28, 34, 36, 53, 21, 85, 70,\n",
       "       63, 96, 95, 47, 18, 37, 24, 87, 94, 45, 57, 36, 87, 77, 60, 14, 10,\n",
       "       32, 73, 22, 60, 45, 73, 83, 90, 70, 17, 65, 17, 11, 69, 31, 45, 69,\n",
       "       67, 94, 23, 68, 83, 76, 22, 70, 23, 15, 92,  7, 90, 77, 24, 14, 59,\n",
       "       71, 96,  1, 81,  2, 83, 84, 19, 55, 61, 29, 77, 20, 67, 26, 28, 71,\n",
       "       87, 33, 36, 81, 80, 88, 42, 31,  9,  5, 83, 68, 85, 63,  9, 34, 75,\n",
       "       50, 51, 10, 71, 24, 74, 22, 86, 76, 12, 68, 31, 27, 65, 92, 62, 24,\n",
       "       31, 15, 80, 19, 59, 50,  1, 87,  5,  9, 40, 38, 14,  9, 34, 63, 57,\n",
       "       92,  3, 21, 73, 70, 15, 21, 38, 14,  0, 34, 20, 66, 97, 23,  8, 30,\n",
       "       78, 47,  9, 88, 11, 11, 25, 55, 18,  8, 24, 29, 15, 29, 63, 41, 74,\n",
       "       68, 11, 87, 32, 39,  1, 47, 32, 16, 52, 54, 73, 10])"
      ]
     },
     "execution_count": 22,
     "metadata": {},
     "output_type": "execute_result"
    }
   ],
   "source": [
    "lista=np.array([79, 20, 26,  3, 94,  1,  5,  8, 41, 81, 35, 50, 55, 94, 99, 91, 46,\n",
    "       28, 94, 58, 97, 91, 99, 37, 17, 41, 22, 28, 34, 36, 53, 21, 85, 70,\n",
    "       63, 96, 95, 47, 18, 37, 24, 87, 94, 45, 57, 36, 87, 77, 60, 14, 10,\n",
    "       32, 73, 22, 60, 45, 73, 83, 90, 70, 17, 65, 17, 11, 69, 31, 45, 69,\n",
    "       67, 94, 23, 68, 83, 76, 22, 70, 23, 15, 92,  7, 90, 77, 24, 14, 59,\n",
    "       71, 96,  1, 81,  2, 83, 84, 19, 55, 61, 29, 77, 20, 67, 26, 28, 71,\n",
    "       87, 33, 36, 81, 80, 88, 42, 31,  9,  5, 83, 68, 85, 63,  9, 34, 75,\n",
    "       50, 51, 10, 71, 24, 74, 22, 86, 76, 12, 68, 31, 27, 65, 92, 62, 24,\n",
    "       31, 15, 80, 19, 59, 50,  1, 87,  5,  9, 40, 38, 14,  9, 34, 63, 57,\n",
    "       92,  3, 21, 73, 70, 15, 21, 38, 14,  0, 34, 20, 66, 97, 23,  8, 30,\n",
    "       78, 47,  9, 88, 11, 11, 25, 55, 18,  8, 24, 29, 15, 29, 63, 41, 74,\n",
    "       68, 11, 87, 32, 39,  1, 47, 32, 16, 52, 54, 73, 10])\n",
    "lista"
   ]
  },
  {
   "cell_type": "code",
   "execution_count": 23,
   "metadata": {},
   "outputs": [
    {
     "name": "stdout",
     "output_type": "stream",
     "text": [
      "Média: 47.35\n",
      "Mediana: 45.0\n"
     ]
    }
   ],
   "source": [
    "media=np.mean(lista)\n",
    "mediana=np.median(lista)\n",
    "print(f'Média: {media}')\n",
    "print(f'Mediana: {mediana}')"
   ]
  },
  {
   "cell_type": "code",
   "execution_count": 24,
   "metadata": {},
   "outputs": [
    {
     "name": "stdout",
     "output_type": "stream",
     "text": [
      "Distância entre média e mediana: 5.22%\n"
     ]
    }
   ],
   "source": [
    "distancia=(media-mediana)/mediana*100\n",
    "print (f'Distância entre média e mediana: {distancia:.2f}%')"
   ]
  },
  {
   "cell_type": "code",
   "execution_count": 25,
   "metadata": {},
   "outputs": [
    {
     "name": "stdout",
     "output_type": "stream",
     "text": [
      "Média: 47.35\n",
      "Mediana: 45.0\n",
      "Distância entre média e mediana: 5.22%\n",
      "Primeiro quartil (Q1):21.75\n",
      "Segundo quartil (Q2):45.0\n",
      "Terceiro quartil (Q3):73.0\n"
     ]
    }
   ],
   "source": [
    "q1=np.percentile(lista,25) # o primeiro quartil representa 25% do total da amostra\n",
    "q2=np.percentile(lista,50) # mediana pode ser interpretada como o seu segundo quartil (quartil 50)\n",
    "q3=np.percentile(lista,75) # o terceiro quartil representava 75% do total da amostra\n",
    "\n",
    "#Resumo Estatístico:\n",
    "print(f'Média: {media}')\n",
    "print(f'Mediana: {mediana}')\n",
    "print(f'Distância entre média e mediana: {distancia:.2f}%')\n",
    "print(f\"Primeiro quartil (Q1):{q1}\")\n",
    "print(f\"Segundo quartil (Q2):{q2}\")\n",
    "print(f\"Terceiro quartil (Q3):{q3}\")"
   ]
  },
  {
   "cell_type": "code",
   "execution_count": 26,
   "metadata": {},
   "outputs": [
    {
     "name": "stdout",
     "output_type": "stream",
     "text": [
      "Média: 47.35\n",
      "Mediana: 45.0\n",
      "Distância entre média e mediana: 5.22%\n",
      "Primeiro quartil (Q1):21.75\n",
      "Segundo quartil (Q2):45.0\n",
      "Terceiro quartil (Q3):73.0\n",
      "Intervalo InterQuartil:51.25\n",
      "limite_superior:149.875\n",
      "limite_inferior:-55.125\n"
     ]
    }
   ],
   "source": [
    "#cáculos para verificação do intervalo interQuartil (IQR) e seus limites:\n",
    "\n",
    "iqr=q3-q1\n",
    "limite_superior=q3+(1.5*iqr)\n",
    "limite_inferior=q1-(1.5*iqr)\n",
    "\n",
    "#Resumo Estatístico:\n",
    "print(f'Média: {media}')\n",
    "print(f'Mediana: {mediana}')\n",
    "print(f'Distância entre média e mediana: {distancia:.2f}%')\n",
    "print(f\"Primeiro quartil (Q1):{q1}\")\n",
    "print(f\"Segundo quartil (Q2):{q2}\")\n",
    "print(f\"Terceiro quartil (Q3):{q3}\")\n",
    "print(f\"Intervalo InterQuartil:{iqr}\")\n",
    "print(f\"limite_superior:{limite_superior}\")\n",
    "print(f\"limite_inferior:{limite_inferior}\")"
   ]
  },
  {
   "cell_type": "code",
   "execution_count": 27,
   "metadata": {},
   "outputs": [
    {
     "name": "stdout",
     "output_type": "stream",
     "text": [
      "     Valores\n",
      "0         79\n",
      "1         20\n",
      "2         26\n",
      "3          3\n",
      "4         94\n",
      "..       ...\n",
      "195       16\n",
      "196       52\n",
      "197       54\n",
      "198       73\n",
      "199       10\n",
      "\n",
      "[200 rows x 1 columns]\n"
     ]
    }
   ],
   "source": [
    "lista_df=pd.DataFrame(lista, columns=['Valores'])\n",
    "print(lista_df)"
   ]
  },
  {
   "cell_type": "code",
   "execution_count": 29,
   "metadata": {},
   "outputs": [
    {
     "name": "stdout",
     "output_type": "stream",
     "text": [
      "Menor Valor:0\n",
      "Maior Valor:99\n",
      "Amplitude:99\n"
     ]
    }
   ],
   "source": [
    "#Medidas de Dispersão\n",
    "valor_maximo=lista_df['Valores'].max()\n",
    "valor_minimo=lista_df['Valores'].min()\n",
    "amplitude_total=valor_maximo-valor_minimo\n",
    "\n",
    "print(f'Menor Valor:{valor_minimo}')\n",
    "print(f'Maior Valor:{valor_maximo}')\n",
    "print(f'Amplitude:{amplitude_total}')"
   ]
  },
  {
   "cell_type": "code",
   "execution_count": 41,
   "metadata": {},
   "outputs": [
    {
     "data": {
      "image/png": "[encoded data removed]",
      "text/plain": [
       "<Figure size 1200x600 with 2 Axes>"
      ]
     },
     "metadata": {},
     "output_type": "display_data"
    }
   ],
   "source": [
    "#configuração do painel\n",
    "fig,ax=plt.subplots(1,2,figsize=(12,6))\n",
    "\n",
    "#Boxplot\n",
    "ax[0].boxplot(lista_df['Valores'])\n",
    "ax[0].set_title('Distribuição de Dados - Boxplot')\n",
    "ax[0].set_ylabel('Valores')\n",
    "\n",
    "#Exibindo as Medidas\n",
    "ax[1].text(0.1,0.8,f\"Menor Valor:{valor_minimo}\")\n",
    "ax[1].text(0.1,0.7,f\"Maior Valor:{valor_maximo}\")\n",
    "ax[1].text(0.1,0.6,f\"Amplitude Total:{amplitude_total}\")\n",
    "ax[1].set_axis_off()\n",
    "\n",
    "plt.tight_layout()\n",
    "plt.show()"
   ]
  }
 ],
 "metadata": {
  "kernelspec": {
   "display_name": "Python 3",
   "language": "python",
   "name": "python3"
  },
  "language_info": {
   "codemirror_mode": {
    "name": "ipython",
    "version": 3
   },
   "file_extension": ".py",
   "mimetype": "text/x-python",
   "name": "python",
   "nbconvert_exporter": "python",
   "pygments_lexer": "ipython3",
   "version": "3.11.4"
  },
  "orig_nbformat": 4
 },
 "nbformat": 4,
 "nbformat_minor": 2
}
