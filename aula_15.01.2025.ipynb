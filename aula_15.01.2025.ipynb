{
 "cells": [
  {
   "cell_type": "code",
   "execution_count": 1,
   "metadata": {},
   "outputs": [
    {
     "data": {
      "text/html": [
       "<div>\n",
       "<style scoped>\n",
       "    .dataframe tbody tr th:only-of-type {\n",
       "        vertical-align: middle;\n",
       "    }\n",
       "\n",
       "    .dataframe tbody tr th {\n",
       "        vertical-align: top;\n",
       "    }\n",
       "\n",
       "    .dataframe thead th {\n",
       "        text-align: right;\n",
       "    }\n",
       "</style>\n",
       "<table border=\"1\" class=\"dataframe\">\n",
       "  <thead>\n",
       "    <tr style=\"text-align: right;\">\n",
       "      <th></th>\n",
       "      <th>MÊS COMPETÊNCIA</th>\n",
       "      <th>MÊS REFERÊNCIA</th>\n",
       "      <th>UF</th>\n",
       "      <th>CÓDIGO MUNICÍPIO SIAFI</th>\n",
       "      <th>NOME MUNICÍPIO</th>\n",
       "      <th>CPF FAVORECIDO</th>\n",
       "      <th>NIS FAVORECIDO</th>\n",
       "      <th>NOME FAVORECIDO</th>\n",
       "      <th>VALOR PARCELA</th>\n",
       "    </tr>\n",
       "  </thead>\n",
       "  <tbody>\n",
       "    <tr>\n",
       "      <th>0</th>\n",
       "      <td>202401</td>\n",
       "      <td>202303</td>\n",
       "      <td>AC</td>\n",
       "      <td>139</td>\n",
       "      <td>RIO BRANCO</td>\n",
       "      <td>***.511.972-**</td>\n",
       "      <td>1.629112e+10</td>\n",
       "      <td>JANAINA FERREIRA DA SILVA</td>\n",
       "      <td>800,00</td>\n",
       "    </tr>\n",
       "    <tr>\n",
       "      <th>1</th>\n",
       "      <td>202401</td>\n",
       "      <td>202303</td>\n",
       "      <td>BA</td>\n",
       "      <td>3329</td>\n",
       "      <td>ANGUERA</td>\n",
       "      <td>***.909.745-**</td>\n",
       "      <td>2.047443e+10</td>\n",
       "      <td>TACIANE MARQUES DA SILVA</td>\n",
       "      <td>750,00</td>\n",
       "    </tr>\n",
       "    <tr>\n",
       "      <th>2</th>\n",
       "      <td>202401</td>\n",
       "      <td>202303</td>\n",
       "      <td>BA</td>\n",
       "      <td>3731</td>\n",
       "      <td>MONTE SANTO</td>\n",
       "      <td>***.872.338-**</td>\n",
       "      <td>2.019538e+10</td>\n",
       "      <td>MAILSON DOS SANTOS SILVA</td>\n",
       "      <td>650,00</td>\n",
       "    </tr>\n",
       "    <tr>\n",
       "      <th>3</th>\n",
       "      <td>202401</td>\n",
       "      <td>202303</td>\n",
       "      <td>BA</td>\n",
       "      <td>3761</td>\n",
       "      <td>NOVA VICOSA</td>\n",
       "      <td>***.665.905-**</td>\n",
       "      <td>1.272359e+10</td>\n",
       "      <td>IRENI RICARDO GERALDO</td>\n",
       "      <td>650,00</td>\n",
       "    </tr>\n",
       "    <tr>\n",
       "      <th>4</th>\n",
       "      <td>202401</td>\n",
       "      <td>202303</td>\n",
       "      <td>BA</td>\n",
       "      <td>3849</td>\n",
       "      <td>SALVADOR</td>\n",
       "      <td>***.932.435-**</td>\n",
       "      <td>2.002458e+10</td>\n",
       "      <td>ELIENE GOMES DOS SANTOS</td>\n",
       "      <td>850,00</td>\n",
       "    </tr>\n",
       "  </tbody>\n",
       "</table>\n",
       "</div>"
      ],
      "text/plain": [
       "   MÊS COMPETÊNCIA  MÊS REFERÊNCIA  UF  CÓDIGO MUNICÍPIO SIAFI NOME MUNICÍPIO  \\\n",
       "0           202401          202303  AC                     139     RIO BRANCO   \n",
       "1           202401          202303  BA                    3329        ANGUERA   \n",
       "2           202401          202303  BA                    3731    MONTE SANTO   \n",
       "3           202401          202303  BA                    3761    NOVA VICOSA   \n",
       "4           202401          202303  BA                    3849       SALVADOR   \n",
       "\n",
       "   CPF FAVORECIDO  NIS FAVORECIDO            NOME FAVORECIDO VALOR PARCELA  \n",
       "0  ***.511.972-**    1.629112e+10  JANAINA FERREIRA DA SILVA        800,00  \n",
       "1  ***.909.745-**    2.047443e+10   TACIANE MARQUES DA SILVA        750,00  \n",
       "2  ***.872.338-**    2.019538e+10   MAILSON DOS SANTOS SILVA        650,00  \n",
       "3  ***.665.905-**    1.272359e+10      IRENI RICARDO GERALDO        650,00  \n",
       "4  ***.932.435-**    2.002458e+10    ELIENE GOMES DOS SANTOS        850,00  "
      ]
     },
     "metadata": {},
     "output_type": "display_data"
    },
    {
     "name": "stdout",
     "output_type": "stream",
     "text": [
      "Tempo de execução com Pandas: 15.336935043334961 segundos\n"
     ]
    }
   ],
   "source": [
    "#IMPORTANTE: utilize os dados de 2 meses para evitar a sobrecarga do programa!\n",
    "\n",
    "import pandas as pd\n",
    "import time\n",
    "\n",
    "arquivo1=pd.read_csv(\"202401_NovoBolsaFamilia.csv\", sep=\";\", encoding=\"latin-1\") #caminhos dos arquivos\n",
    "arquivo2=pd.read_csv(\"202402_NovoBolsaFamilia.csv\", sep=\";\", encoding=\"latin-1\")\n",
    "\n",
    "inicio_tempo=time.time() #marcação do tempo de processamento\n",
    "df_pandas=pd.concat([arquivo1,arquivo2])\n",
    "\n",
    "display(df_pandas.head())\n",
    "\n",
    "print(\"Tempo de execução com Pandas:\", time.time() - inicio_tempo, \"segundos\") "
   ]
  },
  {
   "cell_type": "code",
   "execution_count": 3,
   "metadata": {},
   "outputs": [
    {
     "data": {
      "text/html": [
       "<div><style>\n",
       ".dataframe > thead > tr,\n",
       ".dataframe > tbody > tr {\n",
       "  text-align: right;\n",
       "  white-space: pre-wrap;\n",
       "}\n",
       "</style>\n",
       "<small>shape: (5, 9)</small><table border=\"1\" class=\"dataframe\"><thead><tr><th>MÊS COMPETÊNCIA</th><th>MÊS REFERÊNCIA</th><th>UF</th><th>CÓDIGO MUNICÍPIO SIAFI</th><th>NOME MUNICÍPIO</th><th>CPF FAVORECIDO</th><th>NIS FAVORECIDO</th><th>NOME FAVORECIDO</th><th>VALOR PARCELA</th></tr><tr><td>i64</td><td>i64</td><td>str</td><td>i64</td><td>str</td><td>str</td><td>i64</td><td>str</td><td>str</td></tr></thead><tbody><tr><td>202401</td><td>202303</td><td>&quot;AC&quot;</td><td>139</td><td>&quot;RIO BRANCO&quot;</td><td>&quot;***.511.972-**&quot;</td><td>16291115205</td><td>&quot;JANAINA FERREIRA DA SILVA&quot;</td><td>&quot;800,00&quot;</td></tr><tr><td>202401</td><td>202303</td><td>&quot;BA&quot;</td><td>3329</td><td>&quot;ANGUERA&quot;</td><td>&quot;***.909.745-**&quot;</td><td>20474429886</td><td>&quot;TACIANE MARQUES DA SILVA&quot;</td><td>&quot;750,00&quot;</td></tr><tr><td>202401</td><td>202303</td><td>&quot;BA&quot;</td><td>3731</td><td>&quot;MONTE SANTO&quot;</td><td>&quot;***.872.338-**&quot;</td><td>20195376298</td><td>&quot;MAILSON DOS SANTOS SILVA&quot;</td><td>&quot;650,00&quot;</td></tr><tr><td>202401</td><td>202303</td><td>&quot;BA&quot;</td><td>3761</td><td>&quot;NOVA VICOSA&quot;</td><td>&quot;***.665.905-**&quot;</td><td>12723589082</td><td>&quot;IRENI RICARDO GERALDO&quot;</td><td>&quot;650,00&quot;</td></tr><tr><td>202401</td><td>202303</td><td>&quot;BA&quot;</td><td>3849</td><td>&quot;SALVADOR&quot;</td><td>&quot;***.932.435-**&quot;</td><td>20024584007</td><td>&quot;ELIENE GOMES DOS SANTOS&quot;</td><td>&quot;850,00&quot;</td></tr></tbody></table></div>"
      ],
      "text/plain": [
       "shape: (5, 9)\n",
       "┌────────────┬────────────┬─────┬────────────┬───┬────────────┬────────────┬───────────┬───────────┐\n",
       "│ MÊS COMPET ┆ MÊS        ┆ UF  ┆ CÓDIGO     ┆ … ┆ CPF        ┆ NIS        ┆ NOME FAVO ┆ VALOR     │\n",
       "│ ÊNCIA      ┆ REFERÊNCIA ┆ --- ┆ MUNICÍPIO  ┆   ┆ FAVORECIDO ┆ FAVORECIDO ┆ RECIDO    ┆ PARCELA   │\n",
       "│ ---        ┆ ---        ┆ str ┆ SIAFI      ┆   ┆ ---        ┆ ---        ┆ ---       ┆ ---       │\n",
       "│ i64        ┆ i64        ┆     ┆ ---        ┆   ┆ str        ┆ i64        ┆ str       ┆ str       │\n",
       "│            ┆            ┆     ┆ i64        ┆   ┆            ┆            ┆           ┆           │\n",
       "╞════════════╪════════════╪═════╪════════════╪═══╪════════════╪════════════╪═══════════╪═══════════╡\n",
       "│ 202401     ┆ 202303     ┆ AC  ┆ 139        ┆ … ┆ ***.511.97 ┆ 1629111520 ┆ JANAINA   ┆ 800,00    │\n",
       "│            ┆            ┆     ┆            ┆   ┆ 2-**       ┆ 5          ┆ FERREIRA  ┆           │\n",
       "│            ┆            ┆     ┆            ┆   ┆            ┆            ┆ DA SILVA  ┆           │\n",
       "│ 202401     ┆ 202303     ┆ BA  ┆ 3329       ┆ … ┆ ***.909.74 ┆ 2047442988 ┆ TACIANE   ┆ 750,00    │\n",
       "│            ┆            ┆     ┆            ┆   ┆ 5-**       ┆ 6          ┆ MARQUES   ┆           │\n",
       "│            ┆            ┆     ┆            ┆   ┆            ┆            ┆ DA SILVA  ┆           │\n",
       "│ 202401     ┆ 202303     ┆ BA  ┆ 3731       ┆ … ┆ ***.872.33 ┆ 2019537629 ┆ MAILSON   ┆ 650,00    │\n",
       "│            ┆            ┆     ┆            ┆   ┆ 8-**       ┆ 8          ┆ DOS       ┆           │\n",
       "│            ┆            ┆     ┆            ┆   ┆            ┆            ┆ SANTOS    ┆           │\n",
       "│            ┆            ┆     ┆            ┆   ┆            ┆            ┆ SILVA     ┆           │\n",
       "│ 202401     ┆ 202303     ┆ BA  ┆ 3761       ┆ … ┆ ***.665.90 ┆ 1272358908 ┆ IRENI     ┆ 650,00    │\n",
       "│            ┆            ┆     ┆            ┆   ┆ 5-**       ┆ 2          ┆ RICARDO   ┆           │\n",
       "│            ┆            ┆     ┆            ┆   ┆            ┆            ┆ GERALDO   ┆           │\n",
       "│ 202401     ┆ 202303     ┆ BA  ┆ 3849       ┆ … ┆ ***.932.43 ┆ 2002458400 ┆ ELIENE    ┆ 850,00    │\n",
       "│            ┆            ┆     ┆            ┆   ┆ 5-**       ┆ 7          ┆ GOMES DOS ┆           │\n",
       "│            ┆            ┆     ┆            ┆   ┆            ┆            ┆ SANTOS    ┆           │\n",
       "└────────────┴────────────┴─────┴────────────┴───┴────────────┴────────────┴───────────┴───────────┘"
      ]
     },
     "metadata": {},
     "output_type": "display_data"
    },
    {
     "name": "stdout",
     "output_type": "stream",
     "text": [
      "Tempo de execução com Polars: 0.07120728492736816 segundos\n"
     ]
    }
   ],
   "source": [
    "import polars as pl\n",
    "\n",
    "arquivo1=pl.read_csv(\"202401_NovoBolsaFamilia.csv\", separator=\";\", encoding=\"latin-1\") #caminhos dos arquivos\n",
    "arquivo2=pl.read_csv(\"202402_NovoBolsaFamilia.csv\", separator=\";\", encoding=\"latin-1\")\n",
    "\n",
    "inicio_tempo=time.time() #marcação do tempo de processamento\n",
    "df_polars=pl.concat([arquivo1,arquivo2])\n",
    "\n",
    "display(df_polars.head())\n",
    "\n",
    "print(\"Tempo de execução com Polars:\", time.time() - inicio_tempo, \"segundos\") "
   ]
  },
  {
   "cell_type": "code",
   "execution_count": 4,
   "metadata": {},
   "outputs": [
    {
     "data": {
      "text/html": [
       "<div><style>\n",
       ".dataframe > thead > tr,\n",
       ".dataframe > tbody > tr {\n",
       "  text-align: right;\n",
       "  white-space: pre-wrap;\n",
       "}\n",
       "</style>\n",
       "<small>shape: (5, 9)</small><table border=\"1\" class=\"dataframe\"><thead><tr><th>MÊS COMPETÊNCIA</th><th>MÊS REFERÊNCIA</th><th>UF</th><th>CÓDIGO MUNICÍPIO SIAFI</th><th>NOME MUNICÍPIO</th><th>CPF FAVORECIDO</th><th>NIS FAVORECIDO</th><th>NOME FAVORECIDO</th><th>VALOR PARCELA</th></tr><tr><td>i64</td><td>i64</td><td>str</td><td>i64</td><td>str</td><td>str</td><td>i64</td><td>str</td><td>str</td></tr></thead><tbody><tr><td>202401</td><td>202303</td><td>&quot;AC&quot;</td><td>139</td><td>&quot;RIO BRANCO&quot;</td><td>&quot;***.511.972-**&quot;</td><td>16291115205</td><td>&quot;JANAINA FERREIRA DA SILVA&quot;</td><td>&quot;800,00&quot;</td></tr><tr><td>202401</td><td>202303</td><td>&quot;BA&quot;</td><td>3329</td><td>&quot;ANGUERA&quot;</td><td>&quot;***.909.745-**&quot;</td><td>20474429886</td><td>&quot;TACIANE MARQUES DA SILVA&quot;</td><td>&quot;750,00&quot;</td></tr><tr><td>202401</td><td>202303</td><td>&quot;BA&quot;</td><td>3731</td><td>&quot;MONTE SANTO&quot;</td><td>&quot;***.872.338-**&quot;</td><td>20195376298</td><td>&quot;MAILSON DOS SANTOS SILVA&quot;</td><td>&quot;650,00&quot;</td></tr><tr><td>202401</td><td>202303</td><td>&quot;BA&quot;</td><td>3761</td><td>&quot;NOVA VICOSA&quot;</td><td>&quot;***.665.905-**&quot;</td><td>12723589082</td><td>&quot;IRENI RICARDO GERALDO&quot;</td><td>&quot;650,00&quot;</td></tr><tr><td>202401</td><td>202303</td><td>&quot;BA&quot;</td><td>3849</td><td>&quot;SALVADOR&quot;</td><td>&quot;***.932.435-**&quot;</td><td>20024584007</td><td>&quot;ELIENE GOMES DOS SANTOS&quot;</td><td>&quot;850,00&quot;</td></tr></tbody></table></div>"
      ],
      "text/plain": [
       "shape: (5, 9)\n",
       "┌────────────┬────────────┬─────┬────────────┬───┬────────────┬────────────┬───────────┬───────────┐\n",
       "│ MÊS COMPET ┆ MÊS        ┆ UF  ┆ CÓDIGO     ┆ … ┆ CPF        ┆ NIS        ┆ NOME FAVO ┆ VALOR     │\n",
       "│ ÊNCIA      ┆ REFERÊNCIA ┆ --- ┆ MUNICÍPIO  ┆   ┆ FAVORECIDO ┆ FAVORECIDO ┆ RECIDO    ┆ PARCELA   │\n",
       "│ ---        ┆ ---        ┆ str ┆ SIAFI      ┆   ┆ ---        ┆ ---        ┆ ---       ┆ ---       │\n",
       "│ i64        ┆ i64        ┆     ┆ ---        ┆   ┆ str        ┆ i64        ┆ str       ┆ str       │\n",
       "│            ┆            ┆     ┆ i64        ┆   ┆            ┆            ┆           ┆           │\n",
       "╞════════════╪════════════╪═════╪════════════╪═══╪════════════╪════════════╪═══════════╪═══════════╡\n",
       "│ 202401     ┆ 202303     ┆ AC  ┆ 139        ┆ … ┆ ***.511.97 ┆ 1629111520 ┆ JANAINA   ┆ 800,00    │\n",
       "│            ┆            ┆     ┆            ┆   ┆ 2-**       ┆ 5          ┆ FERREIRA  ┆           │\n",
       "│            ┆            ┆     ┆            ┆   ┆            ┆            ┆ DA SILVA  ┆           │\n",
       "│ 202401     ┆ 202303     ┆ BA  ┆ 3329       ┆ … ┆ ***.909.74 ┆ 2047442988 ┆ TACIANE   ┆ 750,00    │\n",
       "│            ┆            ┆     ┆            ┆   ┆ 5-**       ┆ 6          ┆ MARQUES   ┆           │\n",
       "│            ┆            ┆     ┆            ┆   ┆            ┆            ┆ DA SILVA  ┆           │\n",
       "│ 202401     ┆ 202303     ┆ BA  ┆ 3731       ┆ … ┆ ***.872.33 ┆ 2019537629 ┆ MAILSON   ┆ 650,00    │\n",
       "│            ┆            ┆     ┆            ┆   ┆ 8-**       ┆ 8          ┆ DOS       ┆           │\n",
       "│            ┆            ┆     ┆            ┆   ┆            ┆            ┆ SANTOS    ┆           │\n",
       "│            ┆            ┆     ┆            ┆   ┆            ┆            ┆ SILVA     ┆           │\n",
       "│ 202401     ┆ 202303     ┆ BA  ┆ 3761       ┆ … ┆ ***.665.90 ┆ 1272358908 ┆ IRENI     ┆ 650,00    │\n",
       "│            ┆            ┆     ┆            ┆   ┆ 5-**       ┆ 2          ┆ RICARDO   ┆           │\n",
       "│            ┆            ┆     ┆            ┆   ┆            ┆            ┆ GERALDO   ┆           │\n",
       "│ 202401     ┆ 202303     ┆ BA  ┆ 3849       ┆ … ┆ ***.932.43 ┆ 2002458400 ┆ ELIENE    ┆ 850,00    │\n",
       "│            ┆            ┆     ┆            ┆   ┆ 5-**       ┆ 7          ┆ GOMES DOS ┆           │\n",
       "│            ┆            ┆     ┆            ┆   ┆            ┆            ┆ SANTOS    ┆           │\n",
       "└────────────┴────────────┴─────┴────────────┴───┴────────────┴────────────┴───────────┴───────────┘"
      ]
     },
     "metadata": {},
     "output_type": "display_data"
    },
    {
     "name": "stdout",
     "output_type": "stream",
     "text": [
      "Tempo de execução com Polars: 2.0210278034210205 segundos\n"
     ]
    }
   ],
   "source": [
    "#JANEIRO E FEVEREIRO:\n",
    "arquivo1=pl.read_csv(\"202401_NovoBolsaFamilia.csv\", separator=\";\", encoding=\"latin-1\") #caminhos dos arquivos\n",
    "arquivo2=pl.read_csv(\"202402_NovoBolsaFamilia.csv\", separator=\";\", encoding=\"latin-1\")\n",
    "\n",
    "inicio_tempo=time.time() #marcação do tempo de processamento\n",
    "df_polars=pl.concat([arquivo1,arquivo2])\n",
    "\n",
    "display(df_polars.head())\n",
    "\n",
    "print(\"Tempo de execução com Polars:\", time.time() - inicio_tempo, \"segundos\") "
   ]
  },
  {
   "cell_type": "code",
   "execution_count": 5,
   "metadata": {},
   "outputs": [],
   "source": [
    "df_polars.write_parquet('bimestre1.parquet')"
   ]
  },
  {
   "cell_type": "code",
   "execution_count": null,
   "metadata": {},
   "outputs": [],
   "source": []
  }
 ],
 "metadata": {
  "kernelspec": {
   "display_name": "Python 3",
   "language": "python",
   "name": "python3"
  },
  "language_info": {
   "codemirror_mode": {
    "name": "ipython",
    "version": 3
   },
   "file_extension": ".py",
   "mimetype": "text/x-python",
   "name": "python",
   "nbconvert_exporter": "python",
   "pygments_lexer": "ipython3",
   "version": "3.11.4"
  },
  "orig_nbformat": 4
 },
 "nbformat": 4,
 "nbformat_minor": 2
}
