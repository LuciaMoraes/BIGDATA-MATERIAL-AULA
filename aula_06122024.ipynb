{
 "cells": [
  {
   "cell_type": "markdown",
   "metadata": {},
   "source": [
    "INTEGRAÇÃO PANDAS + SQL"
   ]
  },
  {
   "cell_type": "code",
   "execution_count": 3,
   "metadata": {},
   "outputs": [
    {
     "name": "stdout",
     "output_type": "stream",
     "text": [
      "   matricula nome_aluno genero email_contato\n",
      "0          1      Paulo      M          None\n",
      "1          2      Lucia      F          None\n"
     ]
    }
   ],
   "source": [
    "from sqlalchemy import create_engine\n",
    "import pandas as pd\n",
    "host='localhost'\n",
    "\n",
    "user='root'\n",
    "\n",
    "password='senac%40123'\n",
    "\n",
    "database='Gabriel'\n",
    "\n",
    "engine=create_engine(f'mysql+pymysql://{user}:{password}@{host}/{database}')\n",
    "\n",
    "df=pd.read_sql('alunos',con=engine)\n",
    "print(df)"
   ]
  },
  {
   "cell_type": "markdown",
   "metadata": {},
   "source": [
    "#atividade (github):\n",
    "\n",
    "#Crie mais duas tabelas (sugestão: 'cursos' e 'filiais') no mesmo banco de dados\n",
    "#onde vc criou 'alunos' e 'professores'. Façam mais características para essas tabelas (ao menos 5)\n",
    "#e criem, pelo menos, 10 injeções de dados para as novas tabelas e 1 consulta para cada uma delas.\n",
    "# No final, peça (no VSCODE) para que o Pandas leia cada tabela nova que foi criada."
   ]
  }
 ],
 "metadata": {
  "kernelspec": {
   "display_name": "Python 3",
   "language": "python",
   "name": "python3"
  },
  "language_info": {
   "codemirror_mode": {
    "name": "ipython",
    "version": 3
   },
   "file_extension": ".py",
   "mimetype": "text/x-python",
   "name": "python",
   "nbconvert_exporter": "python",
   "pygments_lexer": "ipython3",
   "version": "3.11.4"
  },
  "orig_nbformat": 4
 },
 "nbformat": 4,
 "nbformat_minor": 2
}
