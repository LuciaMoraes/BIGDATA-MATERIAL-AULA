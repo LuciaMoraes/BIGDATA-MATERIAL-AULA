{
 "cells": [
  {
   "cell_type": "markdown",
   "metadata": {},
   "source": []
  },
  {
   "cell_type": "markdown",
   "metadata": {},
   "source": [
    "Correlação de Pearson:\n",
    "\n",
    "Medida que nos indica a intesidade e a direção da relação linear entre duas variáveis"
   ]
  },
  {
   "cell_type": "code",
   "execution_count": 6,
   "metadata": {},
   "outputs": [],
   "source": [
    "import pandas as pd\n",
    "import numpy as np\n",
    "import matplotlib.pyplot as plt \n",
    "import scipy\n",
    "from scipy.stats import pearsonr"
   ]
  },
  {
   "cell_type": "code",
   "execution_count": 8,
   "metadata": {},
   "outputs": [
    {
     "data": {
      "text/plain": [
       "{'Horas de Estudo': [1, 2, 3, 4, 5, 6, 7, 8, 9, 10],\n",
       " 'Nota': [55, 60, 61, 67, 70, 72, 75, 78, 85, 88]}"
      ]
     },
     "metadata": {},
     "output_type": "display_data"
    },
    {
     "data": {
      "text/html": [
       "<div>\n",
       "<style scoped>\n",
       "    .dataframe tbody tr th:only-of-type {\n",
       "        vertical-align: middle;\n",
       "    }\n",
       "\n",
       "    .dataframe tbody tr th {\n",
       "        vertical-align: top;\n",
       "    }\n",
       "\n",
       "    .dataframe thead th {\n",
       "        text-align: right;\n",
       "    }\n",
       "</style>\n",
       "<table border=\"1\" class=\"dataframe\">\n",
       "  <thead>\n",
       "    <tr style=\"text-align: right;\">\n",
       "      <th></th>\n",
       "      <th>Horas de Estudo</th>\n",
       "      <th>Nota</th>\n",
       "    </tr>\n",
       "  </thead>\n",
       "  <tbody>\n",
       "    <tr>\n",
       "      <th>0</th>\n",
       "      <td>1</td>\n",
       "      <td>55</td>\n",
       "    </tr>\n",
       "    <tr>\n",
       "      <th>1</th>\n",
       "      <td>2</td>\n",
       "      <td>60</td>\n",
       "    </tr>\n",
       "    <tr>\n",
       "      <th>2</th>\n",
       "      <td>3</td>\n",
       "      <td>61</td>\n",
       "    </tr>\n",
       "    <tr>\n",
       "      <th>3</th>\n",
       "      <td>4</td>\n",
       "      <td>67</td>\n",
       "    </tr>\n",
       "    <tr>\n",
       "      <th>4</th>\n",
       "      <td>5</td>\n",
       "      <td>70</td>\n",
       "    </tr>\n",
       "    <tr>\n",
       "      <th>5</th>\n",
       "      <td>6</td>\n",
       "      <td>72</td>\n",
       "    </tr>\n",
       "    <tr>\n",
       "      <th>6</th>\n",
       "      <td>7</td>\n",
       "      <td>75</td>\n",
       "    </tr>\n",
       "    <tr>\n",
       "      <th>7</th>\n",
       "      <td>8</td>\n",
       "      <td>78</td>\n",
       "    </tr>\n",
       "    <tr>\n",
       "      <th>8</th>\n",
       "      <td>9</td>\n",
       "      <td>85</td>\n",
       "    </tr>\n",
       "    <tr>\n",
       "      <th>9</th>\n",
       "      <td>10</td>\n",
       "      <td>88</td>\n",
       "    </tr>\n",
       "  </tbody>\n",
       "</table>\n",
       "</div>"
      ],
      "text/plain": [
       "   Horas de Estudo  Nota\n",
       "0                1    55\n",
       "1                2    60\n",
       "2                3    61\n",
       "3                4    67\n",
       "4                5    70\n",
       "5                6    72\n",
       "6                7    75\n",
       "7                8    78\n",
       "8                9    85\n",
       "9               10    88"
      ]
     },
     "metadata": {},
     "output_type": "display_data"
    }
   ],
   "source": [
    "#dados fictícios: horas de estudo impactando nas notas\n",
    "dados={'Horas de Estudo':[1,2,3,4,5,6,7,8,9,10],\n",
    "       'Nota':[55,60,61,67,70,72,75,78,85,88]}\n",
    "df_dados=pd.DataFrame(dados)\n",
    "display(dados)\n",
    "display(df_dados)"
   ]
  },
  {
   "cell_type": "code",
   "execution_count": 11,
   "metadata": {},
   "outputs": [
    {
     "name": "stdout",
     "output_type": "stream",
     "text": [
      "0.9928284651674173\n"
     ]
    }
   ],
   "source": [
    "#calculando o coeficiente de correlação de Pearson\n",
    "correlacao,_=pearsonr(df_dados['Horas de Estudo'],df_dados['Nota'])\n",
    "print(correlacao)"
   ]
  },
  {
   "cell_type": "code",
   "execution_count": 13,
   "metadata": {},
   "outputs": [
    {
     "data": {
      "image/png": "[encoded data removed]",
      "text/plain": [
       "<Figure size 800x600 with 1 Axes>"
      ]
     },
     "metadata": {},
     "output_type": "display_data"
    }
   ],
   "source": [
    "#criando o gráfico de dispersão\n",
    "plt.figure(figsize=(8,6))\n",
    "plt.scatter(df_dados['Horas de Estudo'],df_dados['Nota'],\n",
    "color='blue', label=f'r2={correlacao**2:.2f}')\n",
    "plt.title('Correlação entre Horas de Estudo e Notas')\n",
    "plt.xlabel('Horas de Estudo')\n",
    "plt.ylabel('Nota')\n",
    "plt.legend()\n",
    "plt.grid(True)\n",
    "plt.show()\n"
   ]
  },
  {
   "cell_type": "markdown",
   "metadata": {},
   "source": [
    "Podemos ver a natureza do coeficiente assumir valores no intervalo entre -1 e +1. O coeficiente mede a intensidade e a direção da relação entre os dados lineares.\n",
    "Essa intensidade diz respeito ao GRAU DE RELACIONAMENTO entre duas variáveis:\n",
    "\n",
    "1. Correlação BOA: entre 0.7 e 0.9 (seja positivo ou negativo);\n",
    "2. Correlação MODERADA: entre 0.5 e 0.7 (seja positivo ou negativo);\n",
    "3. Correlação FRACA: entre 0.3 e 0.5 (seja positivo ou negativo)."
   ]
  },
  {
   "cell_type": "code",
   "execution_count": null,
   "metadata": {},
   "outputs": [],
   "source": [
    "#visualizando a Dispersão entre variáveis utilizando uma categoria QUALITATIVA:\n",
    "\n",
    "#Adição da variável qualitativa:\n",
    "df_dados['Motivação']=['Baixa','Baixa','Média','Média','Alta','Alta','Alta','Média']"
   ]
  },
  {
   "cell_type": "code",
   "execution_count": null,
   "metadata": {},
   "outputs": [],
   "source": [
    "#Novo Gráfico de Dispersão (Cpres diferentes por categoria):\n",
    "\n",
    "plt.figure(figsize=(10,6))\n",
    "colors = {'Baixa': 'red', 'Média': 'orange', 'Alta:' 'green'} #cores diferentes para casa nível de motivação"
   ]
  }
 ],
 "metadata": {
  "kernelspec": {
   "display_name": "Python 3",
   "language": "python",
   "name": "python3"
  },
  "language_info": {
   "codemirror_mode": {
    "name": "ipython",
    "version": 3
   },
   "file_extension": ".py",
   "mimetype": "text/x-python",
   "name": "python",
   "nbconvert_exporter": "python",
   "pygments_lexer": "ipython3",
   "version": "3.11.4"
  },
  "orig_nbformat": 4
 },
 "nbformat": 4,
 "nbformat_minor": 2
}
